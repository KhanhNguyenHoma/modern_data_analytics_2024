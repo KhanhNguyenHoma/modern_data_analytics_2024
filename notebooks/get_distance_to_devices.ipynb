{
 "cells": [
  {
   "cell_type": "code",
   "execution_count": 11,
   "metadata": {},
   "outputs": [],
   "source": [
    "import pyarrow.parquet as pq\n",
    "import pandas as pd\n",
    "import os\n",
    "import googlemaps\n",
    "import openrouteservice\n",
    "import numpy as np\n",
    "from tqdm import tqdm\n",
    "import time\n",
    "from geopy.distance import geodesic\n",
    "from sklearn.metrics.pairwise import haversine_distances\n",
    "from math import radians\n",
    "import time"
   ]
  },
  {
   "cell_type": "code",
   "execution_count": 2,
   "metadata": {},
   "outputs": [
    {
     "ename": "KeyError",
     "evalue": "'GOOGLE_MAPS_API_KEY'",
     "output_type": "error",
     "traceback": [
      "\u001b[0;31m---------------------------------------------------------------------------\u001b[0m",
      "\u001b[0;31mKeyError\u001b[0m                                  Traceback (most recent call last)",
      "Cell \u001b[0;32mIn[2], line 1\u001b[0m\n\u001b[0;32m----> 1\u001b[0m GOOGLE_MAPS_API_KEY \u001b[38;5;241m=\u001b[39m \u001b[43mos\u001b[49m\u001b[38;5;241;43m.\u001b[39;49m\u001b[43menviron\u001b[49m\u001b[43m[\u001b[49m\u001b[38;5;124;43m'\u001b[39;49m\u001b[38;5;124;43mGOOGLE_MAPS_API_KEY\u001b[39;49m\u001b[38;5;124;43m'\u001b[39;49m\u001b[43m]\u001b[49m\n\u001b[1;32m      2\u001b[0m gmaps \u001b[38;5;241m=\u001b[39m googlemaps\u001b[38;5;241m.\u001b[39mClient(key\u001b[38;5;241m=\u001b[39mGOOGLE_MAPS_API_KEY)\n",
      "File \u001b[0;32m<frozen os>:685\u001b[0m, in \u001b[0;36m__getitem__\u001b[0;34m(self, key)\u001b[0m\n",
      "\u001b[0;31mKeyError\u001b[0m: 'GOOGLE_MAPS_API_KEY'"
     ]
    }
   ],
   "source": [
    "GOOGLE_MAPS_API_KEY = os.environ['GOOGLE_MAPS_API_KEY']\n",
    "gmaps = googlemaps.Client(key=GOOGLE_MAPS_API_KEY)"
   ]
  },
  {
   "cell_type": "markdown",
   "metadata": {},
   "source": [
    "# Get intervention coordinates"
   ]
  },
  {
   "cell_type": "code",
   "execution_count": 2,
   "metadata": {},
   "outputs": [],
   "source": [
    "file_configs = {\n",
    "        'interventions3.parquet.gzip': {\n",
    "            'event_types': [\n",
    "                \"P003 - Cardiac arrest\",\n",
    "                \"P014 - Electrocution - electrification\",\n",
    "                \"P019 - Unconscious - syncope\",\n",
    "                \"P011 - Chest pain\"\n",
    "            ],\n",
    "            'columns': {\n",
    "                'longitude': \"Longitude intervention\",\n",
    "                'latitude': \"Latitude intervention\",\n",
    "                'event': \"EventType Trip\"\n",
    "            }\n",
    "        },\n",
    "        'interventions1.parquet.gzip': {\n",
    "            'event_types': [\n",
    "                \"P003 - Cardiac arrest\",\n",
    "                \"P014 - Electrocution - electrification\",\n",
    "                \"P019 - Unconscious - syncope\",\n",
    "                \"P011 - Chest pain\"\n",
    "            ],\n",
    "            'columns': {\n",
    "                'longitude': \"Longitude intervention\",\n",
    "                'latitude': \"Latitude intervention\",\n",
    "                'event': \"EventType Trip\"\n",
    "            }\n",
    "        },\n",
    "        'interventions_bxl2.parquet.gzip': {\n",
    "            'event_types': [\n",
    "                'HARTSTILSTAND - DOOD - OVERLEDEN',\n",
    "                'PIJN OP DE BORST',\n",
    "                'CARDIAAL PROBLEEM (ANDERE DAN PIJN AAN DE BORST)'\n",
    "            ],\n",
    "            'columns': {\n",
    "                'longitude': \"Longitude intervention\",\n",
    "                'latitude': \"Latitude intervention\",\n",
    "                'event': \"EventType and EventLevel\"\n",
    "            }\n",
    "        },\n",
    "        'interventions_bxl.parquet.gzip': {\n",
    "            'event_types': [\n",
    "                'P003 - Cardiac arrest',\n",
    "                'P019 - Unconscious - syncope',\n",
    "                'P011 - Chest pain',\n",
    "                'P029 - Obstruction of the respiratory tract',\n",
    "                'P014 - Electrocution - electrification',\n",
    "                'TI (3.3.1) rescue electrocution/electrification'\n",
    "            ],\n",
    "            'columns': {\n",
    "                'longitude': \"longitude_intervention\",\n",
    "                'latitude': \"latitude_intervention\",\n",
    "                'event': \"eventtype_trip\"\n",
    "            }\n",
    "        }\n",
    "    }"
   ]
  },
  {
   "cell_type": "code",
   "execution_count": 13,
   "metadata": {},
   "outputs": [],
   "source": [
    "def format_coordinates(longitude, latitude):\n",
    "    formatted_longitude = str(longitude)[:1] + '.' + str(longitude).replace('.', '')[1:]\n",
    "    formatted_latitude = str(latitude)[:2] + '.' + str(latitude).replace('.', '')[2:]\n",
    "    return formatted_longitude, formatted_latitude\n",
    "\n",
    "\n",
    "def process_and_display_map_data(df, selected_file, show_cardiac_incidences):\n",
    "    map_data = pd.DataFrame(columns=['lat', 'lon'])\n",
    "    config = file_configs[selected_file]\n",
    "\n",
    "    for index, row in df.iterrows():\n",
    "        current_longitude = row[config['columns']['longitude']]\n",
    "        current_latitude = row[config['columns']['latitude']]\n",
    "        if pd.isnull(current_longitude) or pd.isnull(current_latitude):\n",
    "            continue\n",
    "\n",
    "        current_longitude, current_latitude = format_coordinates(current_longitude, current_latitude)\n",
    "\n",
    "        if show_cardiac_incidences == 'Yes':\n",
    "            is_interesting = any(event_type in row[config['columns']['event']] for event_type in config['event_types']) if row[config['columns']['event']] else False\n",
    "            if is_interesting:\n",
    "                map_data = pd.concat([map_data, pd.DataFrame({'lat': [float(current_latitude)], 'lon': [float(current_longitude)]})], ignore_index=True)\n",
    "        else:\n",
    "            map_data = pd.concat([map_data, pd.DataFrame({'lat': [float(current_latitude)], 'lon': [float(current_longitude)]})], ignore_index=True)\n",
    "    \n",
    "    return map_data"
   ]
  },
  {
   "cell_type": "code",
   "execution_count": 10,
   "metadata": {},
   "outputs": [],
   "source": [
    "intervention1 = pq.ParquetFile(os.path.join('../data', 'interventions1.parquet.gzip')).read().to_pandas()\n",
    "intervention2 = pq.ParquetFile(os.path.join('../data', 'interventions2.parquet.gzip')).read().to_pandas()\n",
    "intervention3 = pq.ParquetFile(os.path.join('../data', 'interventions3.parquet.gzip')).read().to_pandas()"
   ]
  },
  {
   "cell_type": "code",
   "execution_count": 16,
   "metadata": {},
   "outputs": [
    {
     "name": "stderr",
     "output_type": "stream",
     "text": [
      "/var/folders/8t/4mtztt010752cj_569fwq_h00000gp/T/ipykernel_76561/3342450.py:22: FutureWarning: The behavior of DataFrame concatenation with empty or all-NA entries is deprecated. In a future version, this will no longer exclude empty or all-NA columns when determining the result dtypes. To retain the old behavior, exclude the relevant entries before the concat operation.\n",
      "  map_data = pd.concat([map_data, pd.DataFrame({'lat': [float(current_latitude)], 'lon': [float(current_longitude)]})], ignore_index=True)\n",
      "/var/folders/8t/4mtztt010752cj_569fwq_h00000gp/T/ipykernel_76561/3342450.py:22: FutureWarning: The behavior of DataFrame concatenation with empty or all-NA entries is deprecated. In a future version, this will no longer exclude empty or all-NA columns when determining the result dtypes. To retain the old behavior, exclude the relevant entries before the concat operation.\n",
      "  map_data = pd.concat([map_data, pd.DataFrame({'lat': [float(current_latitude)], 'lon': [float(current_longitude)]})], ignore_index=True)\n",
      "/var/folders/8t/4mtztt010752cj_569fwq_h00000gp/T/ipykernel_76561/3342450.py:22: FutureWarning: The behavior of DataFrame concatenation with empty or all-NA entries is deprecated. In a future version, this will no longer exclude empty or all-NA columns when determining the result dtypes. To retain the old behavior, exclude the relevant entries before the concat operation.\n",
      "  map_data = pd.concat([map_data, pd.DataFrame({'lat': [float(current_latitude)], 'lon': [float(current_longitude)]})], ignore_index=True)\n"
     ]
    }
   ],
   "source": [
    "coordinates1 = process_and_display_map_data(intervention1, 'interventions1.parquet.gzip', show_cardiac_incidences='Yes')\n",
    "coordinates2 = process_and_display_map_data(intervention2, 'interventions1.parquet.gzip', show_cardiac_incidences='Yes')\n",
    "coordinates3 = process_and_display_map_data(intervention3, 'interventions1.parquet.gzip', show_cardiac_incidences='Yes')"
   ]
  },
  {
   "cell_type": "code",
   "execution_count": 331,
   "metadata": {},
   "outputs": [],
   "source": [
    "intervention_coordinates = pd.concat([coordinates1, coordinates2, coordinates3], ignore_index=True)\n",
    "intervention_coordinates = intervention_coordinates.drop_duplicates()\n",
    "intervention_coordinates['id'] = range(len(intervention_coordinates))\n",
    "intervention_coordinates.to_csv('../transformed_data/intervention_coordinates.csv', index=False)"
   ]
  },
  {
   "cell_type": "code",
   "execution_count": 219,
   "metadata": {},
   "outputs": [
    {
     "data": {
      "text/plain": [
       "(32975, 3)"
      ]
     },
     "execution_count": 219,
     "metadata": {},
     "output_type": "execute_result"
    }
   ],
   "source": [
    "intervention_coordinates.shape"
   ]
  },
  {
   "cell_type": "markdown",
   "metadata": {},
   "source": [
    "# Get AED coordinates"
   ]
  },
  {
   "cell_type": "code",
   "execution_count": 62,
   "metadata": {},
   "outputs": [],
   "source": [
    "aed_locations = pq.ParquetFile(os.path.join('../data', 'aed_locations.parquet.gzip')).read().to_pandas()"
   ]
  },
  {
   "cell_type": "code",
   "execution_count": null,
   "metadata": {},
   "outputs": [],
   "source": [
    "aed_addresses = []\n",
    "for index, location in aed_locations.iterrows():\n",
    "    number = '' if pd.isnull(location['number']) else location['number']\n",
    "    postal_code = '' if pd.isnull(location['postal_code']) else int(location['postal_code'])\n",
    "    address = f\"{number} {location['address']}, {location['municipality']}, {location['province']}, Belgium {postal_code}\"\n",
    "    aed_addresses.append(address)\n",
    "\n",
    "aed_locations['full_address'] = aed_addresses"
   ]
  },
  {
   "cell_type": "code",
   "execution_count": 97,
   "metadata": {},
   "outputs": [
    {
     "data": {
      "text/html": [
       "<div>\n",
       "<style scoped>\n",
       "    .dataframe tbody tr th:only-of-type {\n",
       "        vertical-align: middle;\n",
       "    }\n",
       "\n",
       "    .dataframe tbody tr th {\n",
       "        vertical-align: top;\n",
       "    }\n",
       "\n",
       "    .dataframe thead th {\n",
       "        text-align: right;\n",
       "    }\n",
       "</style>\n",
       "<table border=\"1\" class=\"dataframe\">\n",
       "  <thead>\n",
       "    <tr style=\"text-align: right;\">\n",
       "      <th></th>\n",
       "      <th>id</th>\n",
       "      <th>type</th>\n",
       "      <th>address</th>\n",
       "      <th>number</th>\n",
       "      <th>postal_code</th>\n",
       "      <th>municipality</th>\n",
       "      <th>province</th>\n",
       "      <th>location</th>\n",
       "      <th>public</th>\n",
       "      <th>available</th>\n",
       "      <th>hours</th>\n",
       "      <th>full_address</th>\n",
       "    </tr>\n",
       "  </thead>\n",
       "  <tbody>\n",
       "    <tr>\n",
       "      <th>0</th>\n",
       "      <td>0</td>\n",
       "      <td>None</td>\n",
       "      <td>Blvd. Fr. Roosevelt</td>\n",
       "      <td>24.0</td>\n",
       "      <td>7060.0</td>\n",
       "      <td>SOIGNIES</td>\n",
       "      <td>Hainaut</td>\n",
       "      <td>None</td>\n",
       "      <td>Y</td>\n",
       "      <td>None</td>\n",
       "      <td>None</td>\n",
       "      <td>24.0 Blvd. Fr. Roosevelt, SOIGNIES, Hainaut, B...</td>\n",
       "    </tr>\n",
       "    <tr>\n",
       "      <th>1</th>\n",
       "      <td>1</td>\n",
       "      <td>None</td>\n",
       "      <td>Ch. De Wégimont</td>\n",
       "      <td>76.0</td>\n",
       "      <td>4630.0</td>\n",
       "      <td>Ayeneux</td>\n",
       "      <td>Liège</td>\n",
       "      <td>None</td>\n",
       "      <td>None</td>\n",
       "      <td>None</td>\n",
       "      <td>None</td>\n",
       "      <td>76.0 Ch. De Wégimont, Ayeneux, Liège, Belgium ...</td>\n",
       "    </tr>\n",
       "    <tr>\n",
       "      <th>2</th>\n",
       "      <td>2</td>\n",
       "      <td>None</td>\n",
       "      <td>Place Saint - Lambert</td>\n",
       "      <td>NaN</td>\n",
       "      <td>4020.0</td>\n",
       "      <td>Liège</td>\n",
       "      <td>Liège</td>\n",
       "      <td>None</td>\n",
       "      <td>None</td>\n",
       "      <td>None</td>\n",
       "      <td>None</td>\n",
       "      <td>Place Saint - Lambert, Liège, Liège, Belgium ...</td>\n",
       "    </tr>\n",
       "    <tr>\n",
       "      <th>3</th>\n",
       "      <td>3</td>\n",
       "      <td>None</td>\n",
       "      <td>Rue du Doyard</td>\n",
       "      <td>NaN</td>\n",
       "      <td>4990.0</td>\n",
       "      <td>Lierneux</td>\n",
       "      <td>Liège</td>\n",
       "      <td>None</td>\n",
       "      <td>None</td>\n",
       "      <td>None</td>\n",
       "      <td>None</td>\n",
       "      <td>Rue du Doyard, Lierneux, Liège, Belgium 4990</td>\n",
       "    </tr>\n",
       "    <tr>\n",
       "      <th>4</th>\n",
       "      <td>4</td>\n",
       "      <td>None</td>\n",
       "      <td>Fond Saint Servais</td>\n",
       "      <td>NaN</td>\n",
       "      <td>4000.0</td>\n",
       "      <td>Liège</td>\n",
       "      <td>Liège</td>\n",
       "      <td>None</td>\n",
       "      <td>None</td>\n",
       "      <td>None</td>\n",
       "      <td>None</td>\n",
       "      <td>Fond Saint Servais, Liège, Liège, Belgium 4000</td>\n",
       "    </tr>\n",
       "    <tr>\n",
       "      <th>...</th>\n",
       "      <td>...</td>\n",
       "      <td>...</td>\n",
       "      <td>...</td>\n",
       "      <td>...</td>\n",
       "      <td>...</td>\n",
       "      <td>...</td>\n",
       "      <td>...</td>\n",
       "      <td>...</td>\n",
       "      <td>...</td>\n",
       "      <td>...</td>\n",
       "      <td>...</td>\n",
       "      <td>...</td>\n",
       "    </tr>\n",
       "    <tr>\n",
       "      <th>15221</th>\n",
       "      <td>13799</td>\n",
       "      <td>Appareil fixe-Vast apparaat</td>\n",
       "      <td>Nekkerspoel-Borcht</td>\n",
       "      <td>19.0</td>\n",
       "      <td>2800.0</td>\n",
       "      <td>Mechelen</td>\n",
       "      <td>Antwerpen</td>\n",
       "      <td>Hoofdgebouw, 1ste verdieping, thv cafetaria</td>\n",
       "      <td>Oui-Ja</td>\n",
       "      <td>Non-Nee</td>\n",
       "      <td>maandag tot en met vrijdag van 8 tot 23 uur; w...</td>\n",
       "      <td>19.0 Nekkerspoel-Borcht , Mechelen, Antwerpen,...</td>\n",
       "    </tr>\n",
       "    <tr>\n",
       "      <th>15223</th>\n",
       "      <td>13800</td>\n",
       "      <td>Appareil fixe-Vast apparaat</td>\n",
       "      <td>Nieuwe Dreef</td>\n",
       "      <td>17.0</td>\n",
       "      <td>9160.0</td>\n",
       "      <td>Lokeren</td>\n",
       "      <td>Oost-Vlaanderen</td>\n",
       "      <td>Locatie : ingang poort hoofdgebouw</td>\n",
       "      <td>Oui-Ja</td>\n",
       "      <td>Oui-Ja</td>\n",
       "      <td>None</td>\n",
       "      <td>17.0 Nieuwe Dreef , Lokeren, Oost-Vlaanderen, ...</td>\n",
       "    </tr>\n",
       "    <tr>\n",
       "      <th>15224</th>\n",
       "      <td>13801</td>\n",
       "      <td>Appareil fixe-Vast apparaat</td>\n",
       "      <td>Panterschipstraat</td>\n",
       "      <td>207.0</td>\n",
       "      <td>9000.0</td>\n",
       "      <td>Gent</td>\n",
       "      <td>Oost-Vlaanderen</td>\n",
       "      <td></td>\n",
       "      <td>Oui-Ja</td>\n",
       "      <td>Non-Nee</td>\n",
       "      <td>None</td>\n",
       "      <td>207.0 Panterschipstraat , Gent, Oost-Vlaandere...</td>\n",
       "    </tr>\n",
       "    <tr>\n",
       "      <th>15225</th>\n",
       "      <td>13802</td>\n",
       "      <td>Appareil fixe-Vast apparaat</td>\n",
       "      <td>Albert Leemansplein</td>\n",
       "      <td>20.0</td>\n",
       "      <td>1050.0</td>\n",
       "      <td>Bruxelles</td>\n",
       "      <td>Bruxelles-Brussel</td>\n",
       "      <td></td>\n",
       "      <td>Oui-Ja</td>\n",
       "      <td>Non-Nee</td>\n",
       "      <td>None</td>\n",
       "      <td>20.0 Albert Leemansplein, Bruxelles, Bruxelles...</td>\n",
       "    </tr>\n",
       "    <tr>\n",
       "      <th>15226</th>\n",
       "      <td>13803</td>\n",
       "      <td>Appareil fixe-Vast apparaat</td>\n",
       "      <td>rue Saint-Donat</td>\n",
       "      <td>18.0</td>\n",
       "      <td>5640.0</td>\n",
       "      <td>METTET</td>\n",
       "      <td>Namur</td>\n",
       "      <td>Site de Mettet - Magasin</td>\n",
       "      <td>Non-Nee</td>\n",
       "      <td>Non-Nee</td>\n",
       "      <td>8h00 à 17h00</td>\n",
       "      <td>18.0 rue Saint-Donat, METTET, Namur, Belgium 5640</td>\n",
       "    </tr>\n",
       "  </tbody>\n",
       "</table>\n",
       "<p>13804 rows × 12 columns</p>\n",
       "</div>"
      ],
      "text/plain": [
       "          id                         type                address  number  \\\n",
       "0          0                         None    Blvd. Fr. Roosevelt    24.0   \n",
       "1          1                         None        Ch. De Wégimont    76.0   \n",
       "2          2                         None  Place Saint - Lambert     NaN   \n",
       "3          3                         None          Rue du Doyard     NaN   \n",
       "4          4                         None     Fond Saint Servais     NaN   \n",
       "...      ...                          ...                    ...     ...   \n",
       "15221  13799  Appareil fixe-Vast apparaat    Nekkerspoel-Borcht     19.0   \n",
       "15223  13800  Appareil fixe-Vast apparaat          Nieuwe Dreef     17.0   \n",
       "15224  13801  Appareil fixe-Vast apparaat     Panterschipstraat    207.0   \n",
       "15225  13802  Appareil fixe-Vast apparaat    Albert Leemansplein    20.0   \n",
       "15226  13803  Appareil fixe-Vast apparaat        rue Saint-Donat    18.0   \n",
       "\n",
       "       postal_code municipality           province  \\\n",
       "0           7060.0     SOIGNIES            Hainaut   \n",
       "1           4630.0      Ayeneux              Liège   \n",
       "2           4020.0        Liège              Liège   \n",
       "3           4990.0     Lierneux              Liège   \n",
       "4           4000.0        Liège              Liège   \n",
       "...            ...          ...                ...   \n",
       "15221       2800.0     Mechelen          Antwerpen   \n",
       "15223       9160.0      Lokeren    Oost-Vlaanderen   \n",
       "15224       9000.0         Gent    Oost-Vlaanderen   \n",
       "15225       1050.0    Bruxelles  Bruxelles-Brussel   \n",
       "15226       5640.0       METTET              Namur   \n",
       "\n",
       "                                          location   public available  \\\n",
       "0                                             None        Y      None   \n",
       "1                                             None     None      None   \n",
       "2                                             None     None      None   \n",
       "3                                             None     None      None   \n",
       "4                                             None     None      None   \n",
       "...                                            ...      ...       ...   \n",
       "15221  Hoofdgebouw, 1ste verdieping, thv cafetaria   Oui-Ja   Non-Nee   \n",
       "15223           Locatie : ingang poort hoofdgebouw   Oui-Ja    Oui-Ja   \n",
       "15224                                                Oui-Ja   Non-Nee   \n",
       "15225                                                Oui-Ja   Non-Nee   \n",
       "15226                     Site de Mettet - Magasin  Non-Nee   Non-Nee   \n",
       "\n",
       "                                                   hours  \\\n",
       "0                                                   None   \n",
       "1                                                   None   \n",
       "2                                                   None   \n",
       "3                                                   None   \n",
       "4                                                   None   \n",
       "...                                                  ...   \n",
       "15221  maandag tot en met vrijdag van 8 tot 23 uur; w...   \n",
       "15223                                               None   \n",
       "15224                                               None   \n",
       "15225                                               None   \n",
       "15226                                       8h00 à 17h00   \n",
       "\n",
       "                                            full_address  \n",
       "0      24.0 Blvd. Fr. Roosevelt, SOIGNIES, Hainaut, B...  \n",
       "1      76.0 Ch. De Wégimont, Ayeneux, Liège, Belgium ...  \n",
       "2       Place Saint - Lambert, Liège, Liège, Belgium ...  \n",
       "3           Rue du Doyard, Lierneux, Liège, Belgium 4990  \n",
       "4         Fond Saint Servais, Liège, Liège, Belgium 4000  \n",
       "...                                                  ...  \n",
       "15221  19.0 Nekkerspoel-Borcht , Mechelen, Antwerpen,...  \n",
       "15223  17.0 Nieuwe Dreef , Lokeren, Oost-Vlaanderen, ...  \n",
       "15224  207.0 Panterschipstraat , Gent, Oost-Vlaandere...  \n",
       "15225  20.0 Albert Leemansplein, Bruxelles, Bruxelles...  \n",
       "15226  18.0 rue Saint-Donat, METTET, Namur, Belgium 5640  \n",
       "\n",
       "[13804 rows x 12 columns]"
      ]
     },
     "execution_count": 97,
     "metadata": {},
     "output_type": "execute_result"
    }
   ],
   "source": [
    "aed_locations = aed_locations.drop_duplicates(subset=['full_address'])\n",
    "aed_locations['id'] = range(len(aed_locations))\n",
    "aed_locations"
   ]
  },
  {
   "cell_type": "code",
   "execution_count": 101,
   "metadata": {},
   "outputs": [],
   "source": [
    "def get_lat_lon(address):\n",
    "    # Geocode an address\n",
    "    result = gmaps.geocode(address)\n",
    "\n",
    "    # If result is not empty, extract latitude and longitude\n",
    "    if result:\n",
    "        location = result[0]['geometry']['location']\n",
    "        return location['lat'], location['lng']\n",
    "    else:\n",
    "        return None, None"
   ]
  },
  {
   "cell_type": "code",
   "execution_count": 105,
   "metadata": {},
   "outputs": [],
   "source": [
    "aed_lats = []\n",
    "aed_lons = []\n",
    "\n",
    "for address in aed_locations['full_address']:\n",
    "    lat, lon = get_lat_lon(address)\n",
    "    aed_lats.append(lat)\n",
    "    aed_lons.append(lon)"
   ]
  },
  {
   "cell_type": "code",
   "execution_count": 108,
   "metadata": {},
   "outputs": [],
   "source": [
    "aed_locations['lat'] = aed_lats\n",
    "aed_locations['lon'] = aed_lons"
   ]
  },
  {
   "cell_type": "code",
   "execution_count": 332,
   "metadata": {},
   "outputs": [],
   "source": [
    "aed_locations.to_csv('../transformed_data/aed_locations_full.csv', index=False)"
   ]
  },
  {
   "cell_type": "markdown",
   "metadata": {},
   "source": [
    "# Get distance between intervention & AED coordinates"
   ]
  },
  {
   "cell_type": "code",
   "execution_count": 3,
   "metadata": {},
   "outputs": [],
   "source": [
    "intervention_coordinates = pd.read_csv('../transformed_data/intervention_coordinates.csv')\n",
    "aed_locations = pd.read_csv('../transformed_data/aed_locations_full.csv')"
   ]
  },
  {
   "cell_type": "code",
   "execution_count": 15,
   "metadata": {},
   "outputs": [],
   "source": [
    "intervention_latlons = intervention_coordinates[['lat', 'lon']].values.tolist()\n",
    "aed_latlons = aed_locations[['lat', 'lon']].values.tolist()"
   ]
  },
  {
   "cell_type": "code",
   "execution_count": 16,
   "metadata": {},
   "outputs": [],
   "source": [
    "intervention_lonlats = intervention_coordinates[['lon', 'lat']].values.tolist()\n",
    "aed_lonlats = aed_locations[['lon', 'lat']].values.tolist()"
   ]
  },
  {
   "cell_type": "markdown",
   "metadata": {},
   "source": [
    "## Straight line distances"
   ]
  },
  {
   "cell_type": "code",
   "execution_count": 17,
   "metadata": {},
   "outputs": [],
   "source": [
    "intervention_latlons_radians = np.radians(np.array(intervention_latlons))\n",
    "aed_latlons_radians = np.radians(np.array(aed_latlons))"
   ]
  },
  {
   "cell_type": "code",
   "execution_count": 18,
   "metadata": {},
   "outputs": [
    {
     "name": "stdout",
     "output_type": "stream",
     "text": [
      "CPU times: user 12.7 s, sys: 2.18 s, total: 14.8 s\n",
      "Wall time: 15.6 s\n"
     ]
    }
   ],
   "source": [
    "%time intervention_to_aed_distances_km = haversine_distances(intervention_latlons_radians, aed_latlons_radians) * 6371000/1000"
   ]
  },
  {
   "cell_type": "code",
   "execution_count": 13,
   "metadata": {},
   "outputs": [],
   "source": [
    "np.save(\"../transformed_data/intervention_to_aed_distances_km.npy\", intervention_to_aed_distances_km)"
   ]
  },
  {
   "cell_type": "markdown",
   "metadata": {},
   "source": [
    "## Route distances"
   ]
  },
  {
   "cell_type": "code",
   "execution_count": 17,
   "metadata": {},
   "outputs": [],
   "source": [
    "OPEN_ROUTE_SERVICE_API_KEY = os.environ['OPEN_ROUTE_SERVICE_API_KEY']\n",
    "client = openrouteservice.Client(key=OPEN_ROUTE_SERVICE_API_KEY)  # Initialize client with your API key"
   ]
  },
  {
   "cell_type": "code",
   "execution_count": 23,
   "metadata": {},
   "outputs": [
    {
     "name": "stdout",
     "output_type": "stream",
     "text": [
      "env: OPEN_ROUTE_SERVICE_API_KEY=5b3ce3597851110001cf624805c793bf13394bf184fdf8716b14ab69\n"
     ]
    }
   ],
   "source": [
    "%env OPEN_ROUTE_SERVICE_API_KEY=5b3ce3597851110001cf624805c793bf13394bf184fdf8716b14ab69"
   ]
  },
  {
   "cell_type": "code",
   "execution_count": 24,
   "metadata": {},
   "outputs": [],
   "source": [
    "client = openrouteservice.Client(key=OPEN_ROUTE_SERVICE_API_KEY)"
   ]
  },
  {
   "cell_type": "code",
   "execution_count": 25,
   "metadata": {},
   "outputs": [],
   "source": [
    "def get_route_distances(source_coords, destination_coords):\n",
    "    all_coords = source_coords + destination_coords\n",
    "    routes = client.distance_matrix(source_coords + destination_coords, sources=list(range(len(source_coords))), destinations=list(range(len(source_coords), len(all_coords))), metrics=['distance'], units='km', validate=False)\n",
    "    return np.array(routes['distances'])"
   ]
  },
  {
   "cell_type": "code",
   "execution_count": 7,
   "metadata": {},
   "outputs": [],
   "source": [
    "# Split intervention_lonlats and aed_lonlats into chunks of 50 locations\n",
    "intervention_chunks = [intervention_lonlats[i:i + 50] for i in range(0, len(intervention_lonlats), 50)]\n",
    "aed_chunks = [aed_lonlats[i:i + 50] for i in range(0, len(aed_lonlats), 50)]"
   ]
  },
  {
   "cell_type": "code",
   "execution_count": 27,
   "metadata": {},
   "outputs": [
    {
     "ename": "ApiError",
     "evalue": "403 ({'error': 'Access to this API has been disallowed'})",
     "output_type": "error",
     "traceback": [
      "\u001b[0;31m---------------------------------------------------------------------------\u001b[0m",
      "\u001b[0;31mApiError\u001b[0m                                  Traceback (most recent call last)",
      "Cell \u001b[0;32mIn[27], line 9\u001b[0m\n\u001b[1;32m      7\u001b[0m \u001b[38;5;28;01mfor\u001b[39;00m j, aed_chunk \u001b[38;5;129;01min\u001b[39;00m \u001b[38;5;28menumerate\u001b[39m(aed_chunks):\n\u001b[1;32m      8\u001b[0m     start_time \u001b[38;5;241m=\u001b[39m time\u001b[38;5;241m.\u001b[39mtime()\n\u001b[0;32m----> 9\u001b[0m     matrix \u001b[38;5;241m=\u001b[39m \u001b[43mget_route_distances\u001b[49m\u001b[43m(\u001b[49m\u001b[43mintervention_chunk\u001b[49m\u001b[43m,\u001b[49m\u001b[43m \u001b[49m\u001b[43maed_chunk\u001b[49m\u001b[43m)\u001b[49m\n\u001b[1;32m     10\u001b[0m     route_distances[i\u001b[38;5;241m*\u001b[39m\u001b[38;5;241m50\u001b[39m:(i\u001b[38;5;241m+\u001b[39m\u001b[38;5;241m1\u001b[39m)\u001b[38;5;241m*\u001b[39m\u001b[38;5;241m50\u001b[39m, j\u001b[38;5;241m*\u001b[39m\u001b[38;5;241m50\u001b[39m:(j\u001b[38;5;241m+\u001b[39m\u001b[38;5;241m1\u001b[39m)\u001b[38;5;241m*\u001b[39m\u001b[38;5;241m50\u001b[39m] \u001b[38;5;241m=\u001b[39m matrix\n\u001b[1;32m     11\u001b[0m     end_time \u001b[38;5;241m=\u001b[39m time\u001b[38;5;241m.\u001b[39mtime()\n",
      "Cell \u001b[0;32mIn[25], line 3\u001b[0m, in \u001b[0;36mget_route_distances\u001b[0;34m(source_coords, destination_coords)\u001b[0m\n\u001b[1;32m      1\u001b[0m \u001b[38;5;28;01mdef\u001b[39;00m \u001b[38;5;21mget_route_distances\u001b[39m(source_coords, destination_coords):\n\u001b[1;32m      2\u001b[0m     all_coords \u001b[38;5;241m=\u001b[39m source_coords \u001b[38;5;241m+\u001b[39m destination_coords\n\u001b[0;32m----> 3\u001b[0m     routes \u001b[38;5;241m=\u001b[39m \u001b[43mclient\u001b[49m\u001b[38;5;241;43m.\u001b[39;49m\u001b[43mdistance_matrix\u001b[49m\u001b[43m(\u001b[49m\u001b[43msource_coords\u001b[49m\u001b[43m \u001b[49m\u001b[38;5;241;43m+\u001b[39;49m\u001b[43m \u001b[49m\u001b[43mdestination_coords\u001b[49m\u001b[43m,\u001b[49m\u001b[43m \u001b[49m\u001b[43msources\u001b[49m\u001b[38;5;241;43m=\u001b[39;49m\u001b[38;5;28;43mlist\u001b[39;49m\u001b[43m(\u001b[49m\u001b[38;5;28;43mrange\u001b[39;49m\u001b[43m(\u001b[49m\u001b[38;5;28;43mlen\u001b[39;49m\u001b[43m(\u001b[49m\u001b[43msource_coords\u001b[49m\u001b[43m)\u001b[49m\u001b[43m)\u001b[49m\u001b[43m)\u001b[49m\u001b[43m,\u001b[49m\u001b[43m \u001b[49m\u001b[43mdestinations\u001b[49m\u001b[38;5;241;43m=\u001b[39;49m\u001b[38;5;28;43mlist\u001b[39;49m\u001b[43m(\u001b[49m\u001b[38;5;28;43mrange\u001b[39;49m\u001b[43m(\u001b[49m\u001b[38;5;28;43mlen\u001b[39;49m\u001b[43m(\u001b[49m\u001b[43msource_coords\u001b[49m\u001b[43m)\u001b[49m\u001b[43m,\u001b[49m\u001b[43m \u001b[49m\u001b[38;5;28;43mlen\u001b[39;49m\u001b[43m(\u001b[49m\u001b[43mall_coords\u001b[49m\u001b[43m)\u001b[49m\u001b[43m)\u001b[49m\u001b[43m)\u001b[49m\u001b[43m,\u001b[49m\u001b[43m \u001b[49m\u001b[43mmetrics\u001b[49m\u001b[38;5;241;43m=\u001b[39;49m\u001b[43m[\u001b[49m\u001b[38;5;124;43m'\u001b[39;49m\u001b[38;5;124;43mdistance\u001b[39;49m\u001b[38;5;124;43m'\u001b[39;49m\u001b[43m]\u001b[49m\u001b[43m,\u001b[49m\u001b[43m \u001b[49m\u001b[43munits\u001b[49m\u001b[38;5;241;43m=\u001b[39;49m\u001b[38;5;124;43m'\u001b[39;49m\u001b[38;5;124;43mkm\u001b[39;49m\u001b[38;5;124;43m'\u001b[39;49m\u001b[43m,\u001b[49m\u001b[43m \u001b[49m\u001b[43mvalidate\u001b[49m\u001b[38;5;241;43m=\u001b[39;49m\u001b[38;5;28;43;01mFalse\u001b[39;49;00m\u001b[43m)\u001b[49m\n\u001b[1;32m      4\u001b[0m     \u001b[38;5;28;01mreturn\u001b[39;00m np\u001b[38;5;241m.\u001b[39marray(routes[\u001b[38;5;124m'\u001b[39m\u001b[38;5;124mdistances\u001b[39m\u001b[38;5;124m'\u001b[39m])\n",
      "File \u001b[0;32m/opt/homebrew/Caskroom/miniforge/base/envs/mda/lib/python3.12/site-packages/openrouteservice/client.py:299\u001b[0m, in \u001b[0;36m_make_api_method.<locals>.wrapper\u001b[0;34m(*args, **kwargs)\u001b[0m\n\u001b[1;32m    296\u001b[0m \u001b[38;5;129m@functools\u001b[39m\u001b[38;5;241m.\u001b[39mwraps(func)\n\u001b[1;32m    297\u001b[0m \u001b[38;5;28;01mdef\u001b[39;00m \u001b[38;5;21mwrapper\u001b[39m(\u001b[38;5;241m*\u001b[39margs, \u001b[38;5;241m*\u001b[39m\u001b[38;5;241m*\u001b[39mkwargs):\n\u001b[1;32m    298\u001b[0m     args[\u001b[38;5;241m0\u001b[39m]\u001b[38;5;241m.\u001b[39m_extra_params \u001b[38;5;241m=\u001b[39m kwargs\u001b[38;5;241m.\u001b[39mpop(\u001b[38;5;124m\"\u001b[39m\u001b[38;5;124mextra_params\u001b[39m\u001b[38;5;124m\"\u001b[39m, \u001b[38;5;28;01mNone\u001b[39;00m)\n\u001b[0;32m--> 299\u001b[0m     result \u001b[38;5;241m=\u001b[39m \u001b[43mfunc\u001b[49m\u001b[43m(\u001b[49m\u001b[38;5;241;43m*\u001b[39;49m\u001b[43margs\u001b[49m\u001b[43m,\u001b[49m\u001b[43m \u001b[49m\u001b[38;5;241;43m*\u001b[39;49m\u001b[38;5;241;43m*\u001b[39;49m\u001b[43mkwargs\u001b[49m\u001b[43m)\u001b[49m\n\u001b[1;32m    300\u001b[0m     \u001b[38;5;28;01mtry\u001b[39;00m:\n\u001b[1;32m    301\u001b[0m         \u001b[38;5;28;01mdel\u001b[39;00m args[\u001b[38;5;241m0\u001b[39m]\u001b[38;5;241m.\u001b[39m_extra_params\n",
      "File \u001b[0;32m/opt/homebrew/Caskroom/miniforge/base/envs/mda/lib/python3.12/site-packages/openrouteservice/distance_matrix.py:116\u001b[0m, in \u001b[0;36mdistance_matrix\u001b[0;34m(client, locations, profile, sources, destinations, metrics, resolve_locations, units, optimized, validate, dry_run)\u001b[0m\n\u001b[1;32m    113\u001b[0m \u001b[38;5;28;01mif\u001b[39;00m optimized \u001b[38;5;129;01mis\u001b[39;00m \u001b[38;5;129;01mnot\u001b[39;00m \u001b[38;5;28;01mNone\u001b[39;00m:\n\u001b[1;32m    114\u001b[0m     params[\u001b[38;5;124m\"\u001b[39m\u001b[38;5;124moptimized\u001b[39m\u001b[38;5;124m\"\u001b[39m] \u001b[38;5;241m=\u001b[39m optimized\n\u001b[0;32m--> 116\u001b[0m \u001b[38;5;28;01mreturn\u001b[39;00m \u001b[43mclient\u001b[49m\u001b[38;5;241;43m.\u001b[39;49m\u001b[43mrequest\u001b[49m\u001b[43m(\u001b[49m\u001b[38;5;124;43m\"\u001b[39;49m\u001b[38;5;124;43m/v2/matrix/\u001b[39;49m\u001b[38;5;124;43m\"\u001b[39;49m\u001b[43m \u001b[49m\u001b[38;5;241;43m+\u001b[39;49m\u001b[43m \u001b[49m\u001b[43mprofile\u001b[49m\u001b[43m \u001b[49m\u001b[38;5;241;43m+\u001b[39;49m\u001b[43m \u001b[49m\u001b[38;5;124;43m'\u001b[39;49m\u001b[38;5;124;43m/json\u001b[39;49m\u001b[38;5;124;43m'\u001b[39;49m\u001b[43m,\u001b[49m\u001b[43m \u001b[49m\u001b[43m{\u001b[49m\u001b[43m}\u001b[49m\u001b[43m,\u001b[49m\u001b[43m \u001b[49m\u001b[43mpost_json\u001b[49m\u001b[38;5;241;43m=\u001b[39;49m\u001b[43mparams\u001b[49m\u001b[43m,\u001b[49m\u001b[43m \u001b[49m\u001b[43mdry_run\u001b[49m\u001b[38;5;241;43m=\u001b[39;49m\u001b[43mdry_run\u001b[49m\u001b[43m)\u001b[49m\n",
      "File \u001b[0;32m/opt/homebrew/Caskroom/miniforge/base/envs/mda/lib/python3.12/site-packages/openrouteservice/client.py:204\u001b[0m, in \u001b[0;36mClient.request\u001b[0;34m(self, url, get_params, first_request_time, retry_counter, requests_kwargs, post_json, dry_run)\u001b[0m\n\u001b[1;32m    200\u001b[0m     \u001b[38;5;28;01mreturn\u001b[39;00m \u001b[38;5;28mself\u001b[39m\u001b[38;5;241m.\u001b[39mrequest(url, get_params, first_request_time,\n\u001b[1;32m    201\u001b[0m                         retry_counter \u001b[38;5;241m+\u001b[39m \u001b[38;5;241m1\u001b[39m, requests_kwargs, post_json)\n\u001b[1;32m    203\u001b[0m \u001b[38;5;28;01mtry\u001b[39;00m:\n\u001b[0;32m--> 204\u001b[0m     result \u001b[38;5;241m=\u001b[39m \u001b[38;5;28;43mself\u001b[39;49m\u001b[38;5;241;43m.\u001b[39;49m\u001b[43m_get_body\u001b[49m\u001b[43m(\u001b[49m\u001b[43mresponse\u001b[49m\u001b[43m)\u001b[49m\n\u001b[1;32m    206\u001b[0m     \u001b[38;5;28;01mreturn\u001b[39;00m result\n\u001b[1;32m    207\u001b[0m \u001b[38;5;28;01mexcept\u001b[39;00m exceptions\u001b[38;5;241m.\u001b[39m_RetriableRequest \u001b[38;5;28;01mas\u001b[39;00m e:\n",
      "File \u001b[0;32m/opt/homebrew/Caskroom/miniforge/base/envs/mda/lib/python3.12/site-packages/openrouteservice/client.py:242\u001b[0m, in \u001b[0;36mClient._get_body\u001b[0;34m(response)\u001b[0m\n\u001b[1;32m    237\u001b[0m     \u001b[38;5;28;01mraise\u001b[39;00m exceptions\u001b[38;5;241m.\u001b[39m_OverQueryLimit(\n\u001b[1;32m    238\u001b[0m         status_code,\n\u001b[1;32m    239\u001b[0m         body\n\u001b[1;32m    240\u001b[0m     )\n\u001b[1;32m    241\u001b[0m \u001b[38;5;28;01mif\u001b[39;00m status_code \u001b[38;5;241m!=\u001b[39m \u001b[38;5;241m200\u001b[39m:\n\u001b[0;32m--> 242\u001b[0m     \u001b[38;5;28;01mraise\u001b[39;00m exceptions\u001b[38;5;241m.\u001b[39mApiError(\n\u001b[1;32m    243\u001b[0m         status_code,\n\u001b[1;32m    244\u001b[0m         body\n\u001b[1;32m    245\u001b[0m     )\n\u001b[1;32m    247\u001b[0m \u001b[38;5;28;01mreturn\u001b[39;00m body\n",
      "\u001b[0;31mApiError\u001b[0m: 403 ({'error': 'Access to this API has been disallowed'})"
     ]
    }
   ],
   "source": [
    "# Initialize an empty matrix to hold the distances\n",
    "route_distances = np.full((len(intervention_lonlats), len(aed_lonlats)), np.nan)\n",
    "elapsed_times = []\n",
    "\n",
    "# Compute the distance matrix for each chunk\n",
    "for i, intervention_chunk in enumerate(intervention_chunks):\n",
    "    for j, aed_chunk in enumerate(aed_chunks):\n",
    "        start_time = time.time()\n",
    "        matrix = get_route_distances(intervention_chunk, aed_chunk)\n",
    "        route_distances[i*50:(i+1)*50, j*50:(j+1)*50] = matrix\n",
    "        end_time = time.time()\n",
    "        elapsed_time = end_time - start_time\n",
    "        print(f\"Chunk {i+1} of {len(intervention_chunks)} and {j+1} of {len(aed_chunks)} completed in {elapsed_time} seconds\")\n",
    "        elapsed_times.append(elapsed_time)"
   ]
  },
  {
   "cell_type": "code",
   "execution_count": 415,
   "metadata": {},
   "outputs": [
    {
     "data": {
      "text/plain": [
       "46.49955369657295"
      ]
     },
     "execution_count": 415,
     "metadata": {},
     "output_type": "execute_result"
    }
   ],
   "source": [
    "np.mean(elapsed_times) * (len(intervention_coordinates)/50 * len(aed_locations)/50) / 3600"
   ]
  },
  {
   "cell_type": "code",
   "execution_count": null,
   "metadata": {},
   "outputs": [],
   "source": []
  }
 ],
 "metadata": {
  "kernelspec": {
   "display_name": "mda",
   "language": "python",
   "name": "python3"
  },
  "language_info": {
   "codemirror_mode": {
    "name": "ipython",
    "version": 3
   },
   "file_extension": ".py",
   "mimetype": "text/x-python",
   "name": "python",
   "nbconvert_exporter": "python",
   "pygments_lexer": "ipython3",
   "version": "3.12.2"
  }
 },
 "nbformat": 4,
 "nbformat_minor": 2
}
