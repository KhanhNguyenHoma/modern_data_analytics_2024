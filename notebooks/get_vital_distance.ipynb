{
 "cells": [
  {
   "cell_type": "markdown",
   "id": "c08830cd",
   "metadata": {},
   "source": [
    "<h2>Get the distances between each cardiac arrest and the nearest potential AED location<h2>"
   ]
  },
  {
   "cell_type": "code",
   "execution_count": 24,
   "id": "562d0777",
   "metadata": {},
   "outputs": [],
   "source": [
    "import numpy as np\n",
    "import pandas as pd\n",
    "#from math import radians\n",
    "from sklearn.metrics.pairwise import haversine_distances\n",
    "distances = np.load('../transformed_data/intervention_to_aed_distances_km.npy')\n",
    "intervention_coordinates = pd.read_csv(\"../transformed_data/intervention_coordinates.csv\")\n",
    "potential_aed_coordinates = pd.read_csv(\"../transformed_data/potential_aed_locations.csv\")\n",
    "existing_aed_coordinates=pd.read_csv('../transformed_data/aed_locations_full.csv')\n",
    "#Assign id to potential AEDs\n",
    "#potential_aed_coordinates['id'] = range(len(potential_aed_coordinates))\n",
    "#potential_aed_coordinates.to_csv('../transformed_data/potential_aed_locations.csv', index=False)"
   ]
  },
  {
   "cell_type": "code",
   "execution_count": 25,
   "id": "fe9205c6",
   "metadata": {},
   "outputs": [
    {
     "data": {
      "text/plain": [
       "(32975, 10000)"
      ]
     },
     "execution_count": 25,
     "metadata": {},
     "output_type": "execute_result"
    }
   ],
   "source": [
    "#Get a matrix of new distances\n",
    "intervention_latlons = intervention_coordinates[['lat', 'lon']].values.tolist()\n",
    "potential_aed_latlons = potential_aed_coordinates[['lat', 'lon']].values.tolist()\n",
    "intervention_latlons_radians = np.radians(np.array(intervention_latlons))\n",
    "potential_aed_latlons_radians = np.radians(np.array(potential_aed_latlons))\n",
    "new_distances = haversine_distances(intervention_latlons_radians, potential_aed_latlons_radians) * 6371000/1000\n",
    "new_distances.shape"
   ]
  },
  {
   "cell_type": "code",
   "execution_count": 26,
   "id": "5bed7281",
   "metadata": {},
   "outputs": [
    {
     "data": {
      "text/plain": [
       "(32975, 13804)"
      ]
     },
     "execution_count": 26,
     "metadata": {},
     "output_type": "execute_result"
    }
   ],
   "source": [
    "distances.shape"
   ]
  },
  {
   "cell_type": "markdown",
   "id": "ffe0752b",
   "metadata": {},
   "source": [
    "<h2>For each optimal potential AED, find the intervention locations it saves, and the corresponding diatances. <h2>"
   ]
  },
  {
   "cell_type": "code",
   "execution_count": 27,
   "id": "3f695748",
   "metadata": {},
   "outputs": [],
   "source": [
    "min_distances = np.min(distances, axis=1)\n",
    "min_new_distances = np.min(new_distances, axis=1)\n",
    "potential_aed_index = np.argmin(new_distances, axis=1)\n",
    "existing_aed_index = np.argmin(distances, axis=1)\n",
    "closest_aed_type = np.where(min_new_distances < min_distances, 'potential', 'existing')\n",
    "\n",
    "# Create a DataFrame to store results\n",
    "interventions_closest_to_potential_aed = pd.DataFrame({\n",
    "    'intervention_id': intervention_coordinates.index,\n",
    "    'potential_aed_id': potential_aed_index,\n",
    "    'distance_to_potential_aed': min_new_distances,\n",
    "    'distance_to_existing_aed': min_distances,\n",
    "    'intervention_lat': intervention_coordinates['lat'],\n",
    "    'intervention_lon': intervention_coordinates['lon'],\n",
    "    'existing_aed_id': existing_aed_index,\n",
    "    'closest_aed_type': closest_aed_type\n",
    "})\n",
    "\n",
    "interventions_closest_to_potential_aed = interventions_closest_to_potential_aed[interventions_closest_to_potential_aed['closest_aed_type'] == 'potential']\n",
    "\n",
    "\n",
    "# Extract coordinates of the closest existing AEDs\n",
    "interventions_closest_to_potential_aed['existing_aed_lat'] = interventions_closest_to_potential_aed['existing_aed_id'].apply(\n",
    "    lambda idx: existing_aed_coordinates.at[idx, 'lat']\n",
    ")\n",
    "interventions_closest_to_potential_aed['existing_aed_lon'] = interventions_closest_to_potential_aed['existing_aed_id'].apply(\n",
    "    lambda idx: existing_aed_coordinates.at[idx, 'lon']\n",
    ")\n",
    "\n",
    "# Group interventions by closest potential AED index\n",
    "grouped_interventions = interventions_closest_to_potential_aed.groupby('potential_aed_id').agg({\n",
    "    'intervention_id': list,\n",
    "    'intervention_lat': list,\n",
    "    'intervention_lon': list,\n",
    "    'distance_to_potential_aed': list,\n",
    "    'distance_to_existing_aed': list,\n",
    "    'existing_aed_id': list,\n",
    "    'existing_aed_lat': list,\n",
    "    'existing_aed_lon': list,\n",
    "}).reset_index()\n",
    "\n",
    "grouped_interventions['arrest_count'] = grouped_interventions['intervention_id'].apply(len)\n",
    "\n",
    "# Add the potential AED coordinates to the grouped DataFrame\n",
    "grouped_interventions['potential_aed_lat'] = grouped_interventions['potential_aed_id'].apply(\n",
    "    lambda idx: potential_aed_coordinates.at[idx, 'lat']\n",
    ")\n",
    "grouped_interventions['potential_aed_lon'] = grouped_interventions['potential_aed_id'].apply(\n",
    "    lambda idx: potential_aed_coordinates.at[idx, 'lon']\n",
    ")\n",
    "\n",
    "\n",
    "# Save the grouped interventions to a CSV file\n",
    "grouped_interventions.to_csv('../transformed_data/interventions_closest_to_potential_aeds.csv', index=False)"
   ]
  },
  {
   "cell_type": "code",
   "execution_count": 28,
   "id": "cf9b5cfc",
   "metadata": {},
   "outputs": [],
   "source": [
    "#check the map and solve the problem\n",
    "optimal_potential_aeds = grouped_interventions.nlargest(1, 'arrest_count')\n",
    "optimal_potential_aeds = optimal_potential_aeds.drop(columns=['distance_to_potential_aed', 'distance_to_existing_aed'])\n",
    "optimal_potential_aeds.to_csv('../transformed_data/check_the_map.csv', index=False)\n",
    "\n",
    "\n"
   ]
  }
 ],
 "metadata": {
  "kernelspec": {
   "display_name": "Python 3 (ipykernel)",
   "language": "python",
   "name": "python3"
  },
  "language_info": {
   "codemirror_mode": {
    "name": "ipython",
    "version": 3
   },
   "file_extension": ".py",
   "mimetype": "text/x-python",
   "name": "python",
   "nbconvert_exporter": "python",
   "pygments_lexer": "ipython3",
   "version": "3.12.2"
  }
 },
 "nbformat": 4,
 "nbformat_minor": 5
}
