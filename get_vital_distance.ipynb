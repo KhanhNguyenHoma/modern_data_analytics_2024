{
 "cells": [
  {
   "cell_type": "markdown",
   "id": "c08830cd",
   "metadata": {},
   "source": [
    "<h2>Get the distances between each cardiac arrest and the nearest existing AED location<h2>"
   ]
  },
  {
   "cell_type": "code",
   "execution_count": 173,
   "id": "562d0777",
   "metadata": {},
   "outputs": [],
   "source": [
    "import numpy as np\n",
    "import pandas as pd\n",
    "from sklearn.metrics.pairwise import haversine_distances\n",
    "distances = np.load('./transformed_data/intervention_to_aed_distances_km.npy')\n",
    "min_distances = np.min(distances, axis=1)"
   ]
  },
  {
   "cell_type": "markdown",
   "id": "ada13f3c",
   "metadata": {},
   "source": [
    "<h2>Get the distances between each cardiac arrest and the nearest potential AED location<h2>"
   ]
  },
  {
   "cell_type": "code",
   "execution_count": 174,
   "id": "fe9205c6",
   "metadata": {},
   "outputs": [],
   "source": [
    "intervention_coordinates = pd.read_csv(\"./transformed_data/intervention_coordinates.csv\")\n",
    "potential_aed_location = pd.read_csv(\"./transformed_data/potential_aed_locations.csv\")\n",
    "intervention_latlons = intervention_coordinates[['lat', 'lon']].values.tolist()\n",
    "potential_aed_latlons = potential_aed_location[['lat', 'lon']].values.tolist()\n",
    "intervention_latlons_radians = np.radians(np.array(intervention_latlons))\n",
    "potential_aed_latlons_radians = np.radians(np.array(potential_aed_latlons))\n",
    "intervention_to_potential_aed_distances_km = haversine_distances(intervention_latlons_radians, potential_aed_latlons_radians) * 6371000/1000\n",
    "np.save(\"./transformed_data/intervention_to_potential_aed_distances_km.npy\", intervention_to_potential_aed_distances_km)"
   ]
  },
  {
   "cell_type": "code",
   "execution_count": 175,
   "id": "a131817d",
   "metadata": {},
   "outputs": [],
   "source": [
    "new_distances = np.load('./transformed_data/intervention_to_potential_aed_distances_km.npy')\n",
    "min_new_distances = np.min(new_distances, axis=1)"
   ]
  },
  {
   "cell_type": "markdown",
   "id": "1af333ee",
   "metadata": {},
   "source": [
    "<h2> Find the cardiac arrests that are closer to potential AEDs than existing AEDs, and calculate the number of near cardiac arrests for each potential AED<h2>  "
   ]
  },
  {
   "cell_type": "code",
   "execution_count": 177,
   "id": "97b6f926",
   "metadata": {},
   "outputs": [],
   "source": [
    "comparison_existing_potential = np.minimum(min_distances, min_new_distances)\n",
    "potential_aed_index = np.argmin(new_distances, axis=1)\n",
    "comparison_mask = (comparison_existing_potential == min_new_distances)\n",
    "unique_potential_aed_index, intervention_counts= np.unique(potential_aed_index[comparison_mask], return_counts=True)\n",
    "result_matrix = pd.DataFrame(np.vstack((unique_potential_aed_index, intervention_counts)).T, columns=['ID', 'Counts'])\n",
    "result_matrix.set_index('ID', inplace=True)\n",
    "potential_aed_location['arrest_counts'] = result_matrix.reindex(range(10000), fill_value=0)['Counts']\n",
    "potential_aed_location['arrest_counts'] = potential_aed_location['arrest_counts'].astype(int)\n",
    "potential_aed_location.to_csv('./transformed_data/potential_aed_locations&counts.csv', index=False)"
   ]
  }
 ],
 "metadata": {
  "kernelspec": {
   "display_name": "Python 3 (ipykernel)",
   "language": "python",
   "name": "python3"
  },
  "language_info": {
   "codemirror_mode": {
    "name": "ipython",
    "version": 3
   },
   "file_extension": ".py",
   "mimetype": "text/x-python",
   "name": "python",
   "nbconvert_exporter": "python",
   "pygments_lexer": "ipython3",
   "version": "3.12.2"
  }
 },
 "nbformat": 4,
 "nbformat_minor": 5
}
