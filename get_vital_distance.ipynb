{
 "cells": [
  {
   "cell_type": "markdown",
   "id": "c08830cd",
   "metadata": {},
   "source": [
    "<h2>Get the distances between each cardiac arrest and the nearest existing AED location<h2>"
   ]
  },
  {
   "cell_type": "code",
   "execution_count": 23,
   "id": "562d0777",
   "metadata": {},
   "outputs": [
    {
     "name": "stdout",
     "output_type": "stream",
     "text": [
      "[0.26002494 0.27408346 0.40308063 ... 5.61144392 0.36937148 0.14699724]\n",
      "[9988 7013 3178 ... 3045 3888 3846]\n"
     ]
    }
   ],
   "source": [
    "import numpy as np\n",
    "import pandas as pd\n",
    "distances = np.load('/Users/user/Documents/GitHub/modern_data_analytics_2024/transformed_data/intervention_to_aed_distances_km.npy')\n",
    "distances.shape\n",
    "min_distances = np.min(distances, axis=1)\n",
    "min_indices = np.argmin(distances, axis=1)"
   ]
  },
  {
   "cell_type": "code",
   "execution_count": 33,
   "id": "1350c3bc",
   "metadata": {},
   "outputs": [
    {
     "name": "stdout",
     "output_type": "stream",
     "text": [
      "<class 'pandas.core.series.Series'>\n",
      "<class 'numpy.ndarray'>\n"
     ]
    },
    {
     "data": {
      "text/plain": [
       "array([[0, 9988, 'Non-Nee', 0.26002493604498944],\n",
       "       [1, 7013, 'Y', 0.2740834599135142],\n",
       "       [2, 3178, nan, 0.4030806315582387],\n",
       "       ...,\n",
       "       [32972, 3045, nan, 5.611443924198077],\n",
       "       [32973, 3888, nan, 0.3693714786927163],\n",
       "       [32974, 3846, nan, 0.1469972443385638]], dtype=object)"
      ]
     },
     "execution_count": 33,
     "metadata": {},
     "output_type": "execute_result"
    }
   ],
   "source": [
    "min_indices.shape\n",
    "intervention_coordinates = pd.read_csv(\"/Users/user/Documents/GitHub/modern_data_analytics_2024/transformed_data/intervention_coordinates.csv\")\n",
    "aed_locations_full = pd.read_csv(\"/Users/user/Documents/GitHub/modern_data_analytics_2024/transformed_data/aed_locations_full.csv\")\n",
    "aed_public = aed_locations_full.iloc[min_indices, 8]\n",
    "intervention_id = intervention_coordinates.iloc[:,2]\n",
    "intervention_aed_mindistance = np.column_stack((intervention_id, min_indices, aed_public, min_distances))"
   ]
  }
 ],
 "metadata": {
  "kernelspec": {
   "display_name": "Python 3 (ipykernel)",
   "language": "python",
   "name": "python3"
  },
  "language_info": {
   "codemirror_mode": {
    "name": "ipython",
    "version": 3
   },
   "file_extension": ".py",
   "mimetype": "text/x-python",
   "name": "python",
   "nbconvert_exporter": "python",
   "pygments_lexer": "ipython3",
   "version": "3.12.2"
  }
 },
 "nbformat": 4,
 "nbformat_minor": 5
}
